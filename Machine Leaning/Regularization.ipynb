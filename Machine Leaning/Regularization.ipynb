{
  "nbformat": 4,
  "nbformat_minor": 0,
  "metadata": {
    "colab": {
      "name": "Regularization.ipynb",
      "provenance": [],
      "collapsed_sections": []
    },
    "kernelspec": {
      "name": "python3",
      "display_name": "Python 3"
    },
    "language_info": {
      "name": "python"
    }
  },
  "cells": [
    {
      "cell_type": "markdown",
      "metadata": {
        "id": "p1gEwvH-w9zY"
      },
      "source": [
        "## **REGULARIZATION**"
      ]
    },
    {
      "cell_type": "code",
      "metadata": {
        "id": "rYAsexfJxFu0"
      },
      "source": [
        "import numpy as np\n",
        "import pandas as pd\n",
        "import matplotlib.pyplot as plt\n",
        "import seaborn as sns\n",
        "\n",
        "import warnings\n",
        "warnings.filterwarnings('ignore')"
      ],
      "execution_count": 1,
      "outputs": []
    },
    {
      "cell_type": "code",
      "metadata": {
        "colab": {
          "base_uri": "https://localhost:8080/",
          "height": 276
        },
        "id": "R2QLTvtLxF9u",
        "outputId": "17af2be6-334b-4349-b552-13c3a1afbb43"
      },
      "source": [
        "df = pd.read_csv('/content/drive/MyDrive/ML /Dataset/cars.csv')\n",
        "df.head()"
      ],
      "execution_count": 2,
      "outputs": [
        {
          "output_type": "execute_result",
          "data": {
            "text/html": [
              "<div>\n",
              "<style scoped>\n",
              "    .dataframe tbody tr th:only-of-type {\n",
              "        vertical-align: middle;\n",
              "    }\n",
              "\n",
              "    .dataframe tbody tr th {\n",
              "        vertical-align: top;\n",
              "    }\n",
              "\n",
              "    .dataframe thead th {\n",
              "        text-align: right;\n",
              "    }\n",
              "</style>\n",
              "<table border=\"1\" class=\"dataframe\">\n",
              "  <thead>\n",
              "    <tr style=\"text-align: right;\">\n",
              "      <th></th>\n",
              "      <th>symboling</th>\n",
              "      <th>normalized-losses</th>\n",
              "      <th>make</th>\n",
              "      <th>fuel-type</th>\n",
              "      <th>body-style</th>\n",
              "      <th>drive-wheels</th>\n",
              "      <th>engine-location</th>\n",
              "      <th>width</th>\n",
              "      <th>height</th>\n",
              "      <th>engine-type</th>\n",
              "      <th>engine-size</th>\n",
              "      <th>horsepower</th>\n",
              "      <th>city-mpg</th>\n",
              "      <th>highway-mpg</th>\n",
              "      <th>price</th>\n",
              "    </tr>\n",
              "  </thead>\n",
              "  <tbody>\n",
              "    <tr>\n",
              "      <th>0</th>\n",
              "      <td>3</td>\n",
              "      <td>?</td>\n",
              "      <td>alfa-romero</td>\n",
              "      <td>gas</td>\n",
              "      <td>convertible</td>\n",
              "      <td>rwd</td>\n",
              "      <td>front</td>\n",
              "      <td>64.1</td>\n",
              "      <td>48.8</td>\n",
              "      <td>dohc</td>\n",
              "      <td>130</td>\n",
              "      <td>111</td>\n",
              "      <td>21</td>\n",
              "      <td>27</td>\n",
              "      <td>13495</td>\n",
              "    </tr>\n",
              "    <tr>\n",
              "      <th>1</th>\n",
              "      <td>3</td>\n",
              "      <td>?</td>\n",
              "      <td>alfa-romero</td>\n",
              "      <td>gas</td>\n",
              "      <td>convertible</td>\n",
              "      <td>rwd</td>\n",
              "      <td>front</td>\n",
              "      <td>64.1</td>\n",
              "      <td>48.8</td>\n",
              "      <td>dohc</td>\n",
              "      <td>130</td>\n",
              "      <td>111</td>\n",
              "      <td>21</td>\n",
              "      <td>27</td>\n",
              "      <td>16500</td>\n",
              "    </tr>\n",
              "    <tr>\n",
              "      <th>2</th>\n",
              "      <td>1</td>\n",
              "      <td>?</td>\n",
              "      <td>alfa-romero</td>\n",
              "      <td>gas</td>\n",
              "      <td>hatchback</td>\n",
              "      <td>rwd</td>\n",
              "      <td>front</td>\n",
              "      <td>65.5</td>\n",
              "      <td>52.4</td>\n",
              "      <td>ohcv</td>\n",
              "      <td>152</td>\n",
              "      <td>154</td>\n",
              "      <td>19</td>\n",
              "      <td>26</td>\n",
              "      <td>16500</td>\n",
              "    </tr>\n",
              "    <tr>\n",
              "      <th>3</th>\n",
              "      <td>2</td>\n",
              "      <td>164</td>\n",
              "      <td>audi</td>\n",
              "      <td>gas</td>\n",
              "      <td>sedan</td>\n",
              "      <td>fwd</td>\n",
              "      <td>front</td>\n",
              "      <td>66.2</td>\n",
              "      <td>54.3</td>\n",
              "      <td>ohc</td>\n",
              "      <td>109</td>\n",
              "      <td>102</td>\n",
              "      <td>24</td>\n",
              "      <td>30</td>\n",
              "      <td>13950</td>\n",
              "    </tr>\n",
              "    <tr>\n",
              "      <th>4</th>\n",
              "      <td>2</td>\n",
              "      <td>164</td>\n",
              "      <td>audi</td>\n",
              "      <td>gas</td>\n",
              "      <td>sedan</td>\n",
              "      <td>4wd</td>\n",
              "      <td>front</td>\n",
              "      <td>66.4</td>\n",
              "      <td>54.3</td>\n",
              "      <td>ohc</td>\n",
              "      <td>136</td>\n",
              "      <td>115</td>\n",
              "      <td>18</td>\n",
              "      <td>22</td>\n",
              "      <td>17450</td>\n",
              "    </tr>\n",
              "  </tbody>\n",
              "</table>\n",
              "</div>"
            ],
            "text/plain": [
              "   symboling normalized-losses         make  ... city-mpg highway-mpg  price\n",
              "0          3                 ?  alfa-romero  ...       21          27  13495\n",
              "1          3                 ?  alfa-romero  ...       21          27  16500\n",
              "2          1                 ?  alfa-romero  ...       19          26  16500\n",
              "3          2               164         audi  ...       24          30  13950\n",
              "4          2               164         audi  ...       18          22  17450\n",
              "\n",
              "[5 rows x 15 columns]"
            ]
          },
          "metadata": {},
          "execution_count": 2
        }
      ]
    },
    {
      "cell_type": "markdown",
      "metadata": {
        "id": "qbOJNaxbxybJ"
      },
      "source": [
        "### **EDA and Preprocessing**"
      ]
    },
    {
      "cell_type": "code",
      "metadata": {
        "colab": {
          "base_uri": "https://localhost:8080/"
        },
        "id": "tYX0WDR8xGDk",
        "outputId": "24846363-a637-4e71-a692-170743fd8538"
      },
      "source": [
        "df.info()"
      ],
      "execution_count": 3,
      "outputs": [
        {
          "output_type": "stream",
          "name": "stdout",
          "text": [
            "<class 'pandas.core.frame.DataFrame'>\n",
            "RangeIndex: 205 entries, 0 to 204\n",
            "Data columns (total 15 columns):\n",
            " #   Column             Non-Null Count  Dtype  \n",
            "---  ------             --------------  -----  \n",
            " 0   symboling          205 non-null    int64  \n",
            " 1   normalized-losses  205 non-null    object \n",
            " 2   make               205 non-null    object \n",
            " 3   fuel-type          205 non-null    object \n",
            " 4   body-style         205 non-null    object \n",
            " 5   drive-wheels       205 non-null    object \n",
            " 6   engine-location    205 non-null    object \n",
            " 7   width              205 non-null    float64\n",
            " 8   height             205 non-null    float64\n",
            " 9   engine-type        205 non-null    object \n",
            " 10  engine-size        205 non-null    int64  \n",
            " 11  horsepower         205 non-null    object \n",
            " 12  city-mpg           205 non-null    int64  \n",
            " 13  highway-mpg        205 non-null    int64  \n",
            " 14  price              205 non-null    int64  \n",
            "dtypes: float64(2), int64(5), object(8)\n",
            "memory usage: 24.1+ KB\n"
          ]
        }
      ]
    },
    {
      "cell_type": "code",
      "metadata": {
        "colab": {
          "base_uri": "https://localhost:8080/"
        },
        "id": "u4r45EA3xGFP",
        "outputId": "2683f241-dfd6-4560-8046-56a735ab889e"
      },
      "source": [
        "df['normalized-losses'].value_counts()"
      ],
      "execution_count": 4,
      "outputs": [
        {
          "output_type": "execute_result",
          "data": {
            "text/plain": [
              "?      41\n",
              "161    11\n",
              "91      8\n",
              "150     7\n",
              "134     6\n",
              "128     6\n",
              "104     6\n",
              "168     5\n",
              "102     5\n",
              "95      5\n",
              "85      5\n",
              "74      5\n",
              "103     5\n",
              "94      5\n",
              "65      5\n",
              "106     4\n",
              "148     4\n",
              "118     4\n",
              "93      4\n",
              "122     4\n",
              "101     3\n",
              "154     3\n",
              "83      3\n",
              "115     3\n",
              "125     3\n",
              "137     3\n",
              "119     2\n",
              "145     2\n",
              "110     2\n",
              "188     2\n",
              "87      2\n",
              "197     2\n",
              "129     2\n",
              "89      2\n",
              "113     2\n",
              "153     2\n",
              "164     2\n",
              "108     2\n",
              "194     2\n",
              "81      2\n",
              "192     2\n",
              "158     2\n",
              "98      1\n",
              "107     1\n",
              "142     1\n",
              "90      1\n",
              "77      1\n",
              "121     1\n",
              "78      1\n",
              "256     1\n",
              "231     1\n",
              "186     1\n",
              "Name: normalized-losses, dtype: int64"
            ]
          },
          "metadata": {},
          "execution_count": 4
        }
      ]
    },
    {
      "cell_type": "code",
      "metadata": {
        "colab": {
          "base_uri": "https://localhost:8080/"
        },
        "id": "lhj5TKG2xGIx",
        "outputId": "ab2dbae2-6308-45cb-9678-3d8a5b739d10"
      },
      "source": [
        "df['horsepower'].value_counts()"
      ],
      "execution_count": 5,
      "outputs": [
        {
          "output_type": "execute_result",
          "data": {
            "text/plain": [
              "68     19\n",
              "70     11\n",
              "69     10\n",
              "116     9\n",
              "110     8\n",
              "95      7\n",
              "62      6\n",
              "88      6\n",
              "160     6\n",
              "114     6\n",
              "101     6\n",
              "145     5\n",
              "97      5\n",
              "102     5\n",
              "82      5\n",
              "84      5\n",
              "76      5\n",
              "123     4\n",
              "111     4\n",
              "86      4\n",
              "92      4\n",
              "121     3\n",
              "182     3\n",
              "152     3\n",
              "73      3\n",
              "207     3\n",
              "85      3\n",
              "90      3\n",
              "100     2\n",
              "155     2\n",
              "94      2\n",
              "?       2\n",
              "52      2\n",
              "176     2\n",
              "156     2\n",
              "112     2\n",
              "162     2\n",
              "184     2\n",
              "56      2\n",
              "161     2\n",
              "48      1\n",
              "175     1\n",
              "60      1\n",
              "140     1\n",
              "115     1\n",
              "58      1\n",
              "78      1\n",
              "120     1\n",
              "200     1\n",
              "64      1\n",
              "55      1\n",
              "262     1\n",
              "72      1\n",
              "143     1\n",
              "288     1\n",
              "154     1\n",
              "134     1\n",
              "142     1\n",
              "106     1\n",
              "135     1\n",
              "Name: horsepower, dtype: int64"
            ]
          },
          "metadata": {},
          "execution_count": 5
        }
      ]
    },
    {
      "cell_type": "code",
      "metadata": {
        "id": "s6fpp6UNxGRN"
      },
      "source": [
        "#Handling Missing values\n",
        "df['normalized-losses'].replace(\"?\", np.nan, inplace=True)\n",
        "df['horsepower'].replace(\"?\", np.nan, inplace=True)\n",
        "\n",
        "df['normalized-losses'] = df['normalized-losses'].astype(float)\n",
        "df['horsepower'] = df['horsepower'].astype(float)\n",
        "\n",
        "\n",
        "nlmean = df['normalized-losses'].mean()\n",
        "hpmean =df['horsepower'].mean()\n",
        "\n",
        "df['normalized-losses'].fillna(nlmean, inplace=True)\n",
        "df['horsepower'].fillna(hpmean, inplace=True)"
      ],
      "execution_count": 6,
      "outputs": []
    },
    {
      "cell_type": "code",
      "metadata": {
        "colab": {
          "base_uri": "https://localhost:8080/"
        },
        "id": "T1gF_PqgxGZq",
        "outputId": "0b111e73-5960-4c9a-bbd0-616b558eb6f3"
      },
      "source": [
        "df.info()"
      ],
      "execution_count": 7,
      "outputs": [
        {
          "output_type": "stream",
          "name": "stdout",
          "text": [
            "<class 'pandas.core.frame.DataFrame'>\n",
            "RangeIndex: 205 entries, 0 to 204\n",
            "Data columns (total 15 columns):\n",
            " #   Column             Non-Null Count  Dtype  \n",
            "---  ------             --------------  -----  \n",
            " 0   symboling          205 non-null    int64  \n",
            " 1   normalized-losses  205 non-null    float64\n",
            " 2   make               205 non-null    object \n",
            " 3   fuel-type          205 non-null    object \n",
            " 4   body-style         205 non-null    object \n",
            " 5   drive-wheels       205 non-null    object \n",
            " 6   engine-location    205 non-null    object \n",
            " 7   width              205 non-null    float64\n",
            " 8   height             205 non-null    float64\n",
            " 9   engine-type        205 non-null    object \n",
            " 10  engine-size        205 non-null    int64  \n",
            " 11  horsepower         205 non-null    float64\n",
            " 12  city-mpg           205 non-null    int64  \n",
            " 13  highway-mpg        205 non-null    int64  \n",
            " 14  price              205 non-null    int64  \n",
            "dtypes: float64(4), int64(5), object(6)\n",
            "memory usage: 24.1+ KB\n"
          ]
        }
      ]
    },
    {
      "cell_type": "code",
      "metadata": {
        "colab": {
          "base_uri": "https://localhost:8080/",
          "height": 567
        },
        "id": "nG-hRPdcxGdL",
        "outputId": "37e98aae-649a-40aa-bd62-43672b5b758c"
      },
      "source": [
        "plt.figure(figsize=(8,8))\n",
        "sns.heatmap(df.corr(), annot=True)\n",
        "plt.show()"
      ],
      "execution_count": 8,
      "outputs": [
        {
          "output_type": "display_data",
          "data": {
            "image/png": "[encoded data removed]",
            "text/plain": [
              "<Figure size 576x576 with 2 Axes>"
            ]
          },
          "metadata": {
            "needs_background": "light"
          }
        }
      ]
    },
    {
      "cell_type": "code",
      "metadata": {
        "id": "XXkbYbKtxGfJ"
      },
      "source": [
        "# Separating categorical and numerical data\n",
        "\n",
        "df_cat = df.select_dtypes(object)\n",
        "df_num = df.select_dtypes([\"float64\",\"int64\"])"
      ],
      "execution_count": 9,
      "outputs": []
    },
    {
      "cell_type": "code",
      "metadata": {
        "colab": {
          "base_uri": "https://localhost:8080/",
          "height": 206
        },
        "id": "HoLm-hLlxGhz",
        "outputId": "6c52b83b-f2ba-4ba2-a2d1-fc3c69ffaa38"
      },
      "source": [
        "df_num.head()"
      ],
      "execution_count": 10,
      "outputs": [
        {
          "output_type": "execute_result",
          "data": {
            "text/html": [
              "<div>\n",
              "<style scoped>\n",
              "    .dataframe tbody tr th:only-of-type {\n",
              "        vertical-align: middle;\n",
              "    }\n",
              "\n",
              "    .dataframe tbody tr th {\n",
              "        vertical-align: top;\n",
              "    }\n",
              "\n",
              "    .dataframe thead th {\n",
              "        text-align: right;\n",
              "    }\n",
              "</style>\n",
              "<table border=\"1\" class=\"dataframe\">\n",
              "  <thead>\n",
              "    <tr style=\"text-align: right;\">\n",
              "      <th></th>\n",
              "      <th>symboling</th>\n",
              "      <th>normalized-losses</th>\n",
              "      <th>width</th>\n",
              "      <th>height</th>\n",
              "      <th>engine-size</th>\n",
              "      <th>horsepower</th>\n",
              "      <th>city-mpg</th>\n",
              "      <th>highway-mpg</th>\n",
              "      <th>price</th>\n",
              "    </tr>\n",
              "  </thead>\n",
              "  <tbody>\n",
              "    <tr>\n",
              "      <th>0</th>\n",
              "      <td>3</td>\n",
              "      <td>122.0</td>\n",
              "      <td>64.1</td>\n",
              "      <td>48.8</td>\n",
              "      <td>130</td>\n",
              "      <td>111.0</td>\n",
              "      <td>21</td>\n",
              "      <td>27</td>\n",
              "      <td>13495</td>\n",
              "    </tr>\n",
              "    <tr>\n",
              "      <th>1</th>\n",
              "      <td>3</td>\n",
              "      <td>122.0</td>\n",
              "      <td>64.1</td>\n",
              "      <td>48.8</td>\n",
              "      <td>130</td>\n",
              "      <td>111.0</td>\n",
              "      <td>21</td>\n",
              "      <td>27</td>\n",
              "      <td>16500</td>\n",
              "    </tr>\n",
              "    <tr>\n",
              "      <th>2</th>\n",
              "      <td>1</td>\n",
              "      <td>122.0</td>\n",
              "      <td>65.5</td>\n",
              "      <td>52.4</td>\n",
              "      <td>152</td>\n",
              "      <td>154.0</td>\n",
              "      <td>19</td>\n",
              "      <td>26</td>\n",
              "      <td>16500</td>\n",
              "    </tr>\n",
              "    <tr>\n",
              "      <th>3</th>\n",
              "      <td>2</td>\n",
              "      <td>164.0</td>\n",
              "      <td>66.2</td>\n",
              "      <td>54.3</td>\n",
              "      <td>109</td>\n",
              "      <td>102.0</td>\n",
              "      <td>24</td>\n",
              "      <td>30</td>\n",
              "      <td>13950</td>\n",
              "    </tr>\n",
              "    <tr>\n",
              "      <th>4</th>\n",
              "      <td>2</td>\n",
              "      <td>164.0</td>\n",
              "      <td>66.4</td>\n",
              "      <td>54.3</td>\n",
              "      <td>136</td>\n",
              "      <td>115.0</td>\n",
              "      <td>18</td>\n",
              "      <td>22</td>\n",
              "      <td>17450</td>\n",
              "    </tr>\n",
              "  </tbody>\n",
              "</table>\n",
              "</div>"
            ],
            "text/plain": [
              "   symboling  normalized-losses  width  ...  city-mpg  highway-mpg  price\n",
              "0          3              122.0   64.1  ...        21           27  13495\n",
              "1          3              122.0   64.1  ...        21           27  16500\n",
              "2          1              122.0   65.5  ...        19           26  16500\n",
              "3          2              164.0   66.2  ...        24           30  13950\n",
              "4          2              164.0   66.4  ...        18           22  17450\n",
              "\n",
              "[5 rows x 9 columns]"
            ]
          },
          "metadata": {},
          "execution_count": 10
        }
      ]
    },
    {
      "cell_type": "code",
      "metadata": {
        "colab": {
          "base_uri": "https://localhost:8080/",
          "height": 206
        },
        "id": "nQKaWNU8xGje",
        "outputId": "8b48bd79-5371-42ff-c0fc-6f5e22a551d6"
      },
      "source": [
        "df_cat.head()"
      ],
      "execution_count": 11,
      "outputs": [
        {
          "output_type": "execute_result",
          "data": {
            "text/html": [
              "<div>\n",
              "<style scoped>\n",
              "    .dataframe tbody tr th:only-of-type {\n",
              "        vertical-align: middle;\n",
              "    }\n",
              "\n",
              "    .dataframe tbody tr th {\n",
              "        vertical-align: top;\n",
              "    }\n",
              "\n",
              "    .dataframe thead th {\n",
              "        text-align: right;\n",
              "    }\n",
              "</style>\n",
              "<table border=\"1\" class=\"dataframe\">\n",
              "  <thead>\n",
              "    <tr style=\"text-align: right;\">\n",
              "      <th></th>\n",
              "      <th>make</th>\n",
              "      <th>fuel-type</th>\n",
              "      <th>body-style</th>\n",
              "      <th>drive-wheels</th>\n",
              "      <th>engine-location</th>\n",
              "      <th>engine-type</th>\n",
              "    </tr>\n",
              "  </thead>\n",
              "  <tbody>\n",
              "    <tr>\n",
              "      <th>0</th>\n",
              "      <td>alfa-romero</td>\n",
              "      <td>gas</td>\n",
              "      <td>convertible</td>\n",
              "      <td>rwd</td>\n",
              "      <td>front</td>\n",
              "      <td>dohc</td>\n",
              "    </tr>\n",
              "    <tr>\n",
              "      <th>1</th>\n",
              "      <td>alfa-romero</td>\n",
              "      <td>gas</td>\n",
              "      <td>convertible</td>\n",
              "      <td>rwd</td>\n",
              "      <td>front</td>\n",
              "      <td>dohc</td>\n",
              "    </tr>\n",
              "    <tr>\n",
              "      <th>2</th>\n",
              "      <td>alfa-romero</td>\n",
              "      <td>gas</td>\n",
              "      <td>hatchback</td>\n",
              "      <td>rwd</td>\n",
              "      <td>front</td>\n",
              "      <td>ohcv</td>\n",
              "    </tr>\n",
              "    <tr>\n",
              "      <th>3</th>\n",
              "      <td>audi</td>\n",
              "      <td>gas</td>\n",
              "      <td>sedan</td>\n",
              "      <td>fwd</td>\n",
              "      <td>front</td>\n",
              "      <td>ohc</td>\n",
              "    </tr>\n",
              "    <tr>\n",
              "      <th>4</th>\n",
              "      <td>audi</td>\n",
              "      <td>gas</td>\n",
              "      <td>sedan</td>\n",
              "      <td>4wd</td>\n",
              "      <td>front</td>\n",
              "      <td>ohc</td>\n",
              "    </tr>\n",
              "  </tbody>\n",
              "</table>\n",
              "</div>"
            ],
            "text/plain": [
              "          make fuel-type   body-style drive-wheels engine-location engine-type\n",
              "0  alfa-romero       gas  convertible          rwd           front        dohc\n",
              "1  alfa-romero       gas  convertible          rwd           front        dohc\n",
              "2  alfa-romero       gas    hatchback          rwd           front        ohcv\n",
              "3         audi       gas        sedan          fwd           front         ohc\n",
              "4         audi       gas        sedan          4wd           front         ohc"
            ]
          },
          "metadata": {},
          "execution_count": 11
        }
      ]
    },
    {
      "cell_type": "code",
      "metadata": {
        "id": "CJ3EBISoxGmE"
      },
      "source": [
        "#  Label encoding\n",
        "\n",
        "from sklearn.preprocessing import LabelEncoder\n",
        "\n",
        "for col in df_cat:\n",
        "    le = LabelEncoder()\n",
        "    df_cat[col] = le.fit_transform(df_cat[col])"
      ],
      "execution_count": 12,
      "outputs": []
    },
    {
      "cell_type": "code",
      "metadata": {
        "colab": {
          "base_uri": "https://localhost:8080/",
          "height": 206
        },
        "id": "S2PT4d2IxGny",
        "outputId": "0cc7bed8-9fd5-4ce9-e183-6612c15ca364"
      },
      "source": [
        "df_cat.head()"
      ],
      "execution_count": 13,
      "outputs": [
        {
          "output_type": "execute_result",
          "data": {
            "text/html": [
              "<div>\n",
              "<style scoped>\n",
              "    .dataframe tbody tr th:only-of-type {\n",
              "        vertical-align: middle;\n",
              "    }\n",
              "\n",
              "    .dataframe tbody tr th {\n",
              "        vertical-align: top;\n",
              "    }\n",
              "\n",
              "    .dataframe thead th {\n",
              "        text-align: right;\n",
              "    }\n",
              "</style>\n",
              "<table border=\"1\" class=\"dataframe\">\n",
              "  <thead>\n",
              "    <tr style=\"text-align: right;\">\n",
              "      <th></th>\n",
              "      <th>make</th>\n",
              "      <th>fuel-type</th>\n",
              "      <th>body-style</th>\n",
              "      <th>drive-wheels</th>\n",
              "      <th>engine-location</th>\n",
              "      <th>engine-type</th>\n",
              "    </tr>\n",
              "  </thead>\n",
              "  <tbody>\n",
              "    <tr>\n",
              "      <th>0</th>\n",
              "      <td>0</td>\n",
              "      <td>1</td>\n",
              "      <td>0</td>\n",
              "      <td>2</td>\n",
              "      <td>0</td>\n",
              "      <td>0</td>\n",
              "    </tr>\n",
              "    <tr>\n",
              "      <th>1</th>\n",
              "      <td>0</td>\n",
              "      <td>1</td>\n",
              "      <td>0</td>\n",
              "      <td>2</td>\n",
              "      <td>0</td>\n",
              "      <td>0</td>\n",
              "    </tr>\n",
              "    <tr>\n",
              "      <th>2</th>\n",
              "      <td>0</td>\n",
              "      <td>1</td>\n",
              "      <td>2</td>\n",
              "      <td>2</td>\n",
              "      <td>0</td>\n",
              "      <td>5</td>\n",
              "    </tr>\n",
              "    <tr>\n",
              "      <th>3</th>\n",
              "      <td>1</td>\n",
              "      <td>1</td>\n",
              "      <td>3</td>\n",
              "      <td>1</td>\n",
              "      <td>0</td>\n",
              "      <td>3</td>\n",
              "    </tr>\n",
              "    <tr>\n",
              "      <th>4</th>\n",
              "      <td>1</td>\n",
              "      <td>1</td>\n",
              "      <td>3</td>\n",
              "      <td>0</td>\n",
              "      <td>0</td>\n",
              "      <td>3</td>\n",
              "    </tr>\n",
              "  </tbody>\n",
              "</table>\n",
              "</div>"
            ],
            "text/plain": [
              "   make  fuel-type  body-style  drive-wheels  engine-location  engine-type\n",
              "0     0          1           0             2                0            0\n",
              "1     0          1           0             2                0            0\n",
              "2     0          1           2             2                0            5\n",
              "3     1          1           3             1                0            3\n",
              "4     1          1           3             0                0            3"
            ]
          },
          "metadata": {},
          "execution_count": 13
        }
      ]
    },
    {
      "cell_type": "code",
      "metadata": {
        "id": "6keeZf32xGq4"
      },
      "source": [
        "#Concatenating numerical and categorical columns\n",
        "df_new = pd.concat([df_num,df_cat],axis=1)"
      ],
      "execution_count": 14,
      "outputs": []
    },
    {
      "cell_type": "code",
      "metadata": {
        "colab": {
          "base_uri": "https://localhost:8080/",
          "height": 224
        },
        "id": "6ADtOhdlxGsj",
        "outputId": "0a47713e-ced1-458d-f7cd-2f9b13b0b0a1"
      },
      "source": [
        "df_new.head()"
      ],
      "execution_count": 15,
      "outputs": [
        {
          "output_type": "execute_result",
          "data": {
            "text/html": [
              "<div>\n",
              "<style scoped>\n",
              "    .dataframe tbody tr th:only-of-type {\n",
              "        vertical-align: middle;\n",
              "    }\n",
              "\n",
              "    .dataframe tbody tr th {\n",
              "        vertical-align: top;\n",
              "    }\n",
              "\n",
              "    .dataframe thead th {\n",
              "        text-align: right;\n",
              "    }\n",
              "</style>\n",
              "<table border=\"1\" class=\"dataframe\">\n",
              "  <thead>\n",
              "    <tr style=\"text-align: right;\">\n",
              "      <th></th>\n",
              "      <th>symboling</th>\n",
              "      <th>normalized-losses</th>\n",
              "      <th>width</th>\n",
              "      <th>height</th>\n",
              "      <th>engine-size</th>\n",
              "      <th>horsepower</th>\n",
              "      <th>city-mpg</th>\n",
              "      <th>highway-mpg</th>\n",
              "      <th>price</th>\n",
              "      <th>make</th>\n",
              "      <th>fuel-type</th>\n",
              "      <th>body-style</th>\n",
              "      <th>drive-wheels</th>\n",
              "      <th>engine-location</th>\n",
              "      <th>engine-type</th>\n",
              "    </tr>\n",
              "  </thead>\n",
              "  <tbody>\n",
              "    <tr>\n",
              "      <th>0</th>\n",
              "      <td>3</td>\n",
              "      <td>122.0</td>\n",
              "      <td>64.1</td>\n",
              "      <td>48.8</td>\n",
              "      <td>130</td>\n",
              "      <td>111.0</td>\n",
              "      <td>21</td>\n",
              "      <td>27</td>\n",
              "      <td>13495</td>\n",
              "      <td>0</td>\n",
              "      <td>1</td>\n",
              "      <td>0</td>\n",
              "      <td>2</td>\n",
              "      <td>0</td>\n",
              "      <td>0</td>\n",
              "    </tr>\n",
              "    <tr>\n",
              "      <th>1</th>\n",
              "      <td>3</td>\n",
              "      <td>122.0</td>\n",
              "      <td>64.1</td>\n",
              "      <td>48.8</td>\n",
              "      <td>130</td>\n",
              "      <td>111.0</td>\n",
              "      <td>21</td>\n",
              "      <td>27</td>\n",
              "      <td>16500</td>\n",
              "      <td>0</td>\n",
              "      <td>1</td>\n",
              "      <td>0</td>\n",
              "      <td>2</td>\n",
              "      <td>0</td>\n",
              "      <td>0</td>\n",
              "    </tr>\n",
              "    <tr>\n",
              "      <th>2</th>\n",
              "      <td>1</td>\n",
              "      <td>122.0</td>\n",
              "      <td>65.5</td>\n",
              "      <td>52.4</td>\n",
              "      <td>152</td>\n",
              "      <td>154.0</td>\n",
              "      <td>19</td>\n",
              "      <td>26</td>\n",
              "      <td>16500</td>\n",
              "      <td>0</td>\n",
              "      <td>1</td>\n",
              "      <td>2</td>\n",
              "      <td>2</td>\n",
              "      <td>0</td>\n",
              "      <td>5</td>\n",
              "    </tr>\n",
              "    <tr>\n",
              "      <th>3</th>\n",
              "      <td>2</td>\n",
              "      <td>164.0</td>\n",
              "      <td>66.2</td>\n",
              "      <td>54.3</td>\n",
              "      <td>109</td>\n",
              "      <td>102.0</td>\n",
              "      <td>24</td>\n",
              "      <td>30</td>\n",
              "      <td>13950</td>\n",
              "      <td>1</td>\n",
              "      <td>1</td>\n",
              "      <td>3</td>\n",
              "      <td>1</td>\n",
              "      <td>0</td>\n",
              "      <td>3</td>\n",
              "    </tr>\n",
              "    <tr>\n",
              "      <th>4</th>\n",
              "      <td>2</td>\n",
              "      <td>164.0</td>\n",
              "      <td>66.4</td>\n",
              "      <td>54.3</td>\n",
              "      <td>136</td>\n",
              "      <td>115.0</td>\n",
              "      <td>18</td>\n",
              "      <td>22</td>\n",
              "      <td>17450</td>\n",
              "      <td>1</td>\n",
              "      <td>1</td>\n",
              "      <td>3</td>\n",
              "      <td>0</td>\n",
              "      <td>0</td>\n",
              "      <td>3</td>\n",
              "    </tr>\n",
              "  </tbody>\n",
              "</table>\n",
              "</div>"
            ],
            "text/plain": [
              "   symboling  normalized-losses  ...  engine-location  engine-type\n",
              "0          3              122.0  ...                0            0\n",
              "1          3              122.0  ...                0            0\n",
              "2          1              122.0  ...                0            5\n",
              "3          2              164.0  ...                0            3\n",
              "4          2              164.0  ...                0            3\n",
              "\n",
              "[5 rows x 15 columns]"
            ]
          },
          "metadata": {},
          "execution_count": 15
        }
      ]
    },
    {
      "cell_type": "markdown",
      "metadata": {
        "id": "zOo7OQCdzNtl"
      },
      "source": [
        "### **Dividing into training and testing test** "
      ]
    },
    {
      "cell_type": "code",
      "metadata": {
        "id": "xOHZavLNxGvy"
      },
      "source": [
        "from sklearn.model_selection import train_test_split"
      ],
      "execution_count": 16,
      "outputs": []
    },
    {
      "cell_type": "code",
      "metadata": {
        "id": "8mqgQoyuxGxq"
      },
      "source": [
        "X = df_new.drop(\"price\",axis=1)\n",
        "y = df_new[\"price\"]"
      ],
      "execution_count": 17,
      "outputs": []
    },
    {
      "cell_type": "code",
      "metadata": {
        "id": "U8Q8qfdyxG0Q"
      },
      "source": [
        "X_train,X_test,y_train,y_test = train_test_split(X,y,test_size=0.3,random_state=1)"
      ],
      "execution_count": 18,
      "outputs": []
    },
    {
      "cell_type": "markdown",
      "metadata": {
        "id": "D_dAAiud0ADg"
      },
      "source": [
        "### **Baseline Model**"
      ]
    },
    {
      "cell_type": "code",
      "metadata": {
        "id": "5y47gZ7ExG2J"
      },
      "source": [
        "from sklearn.linear_model import LinearRegression"
      ],
      "execution_count": 19,
      "outputs": []
    },
    {
      "cell_type": "code",
      "metadata": {
        "colab": {
          "base_uri": "https://localhost:8080/"
        },
        "id": "HRa0IACexG5C",
        "outputId": "c355ae54-1cb7-4ed2-b000-4154566e1833"
      },
      "source": [
        "lr = LinearRegression()\n",
        "lr.fit(X_train,y_train)"
      ],
      "execution_count": 20,
      "outputs": [
        {
          "output_type": "execute_result",
          "data": {
            "text/plain": [
              "LinearRegression(copy_X=True, fit_intercept=True, n_jobs=None, normalize=False)"
            ]
          },
          "metadata": {},
          "execution_count": 20
        }
      ]
    },
    {
      "cell_type": "code",
      "metadata": {
        "colab": {
          "base_uri": "https://localhost:8080/"
        },
        "id": "r-QKzA4wxG6u",
        "outputId": "7b865f18-e46e-4098-fe1b-7eb0dfc67140"
      },
      "source": [
        "# Train score\n",
        "lr.score(X_train,y_train)"
      ],
      "execution_count": 21,
      "outputs": [
        {
          "output_type": "execute_result",
          "data": {
            "text/plain": [
              "0.8504573774895473"
            ]
          },
          "metadata": {},
          "execution_count": 21
        }
      ]
    },
    {
      "cell_type": "code",
      "metadata": {
        "colab": {
          "base_uri": "https://localhost:8080/"
        },
        "id": "nGY3fk2SxG9b",
        "outputId": "c8c20437-3282-458f-cbf0-12a132547520"
      },
      "source": [
        "# Test score\n",
        "lr.score(X_test,y_test)"
      ],
      "execution_count": 22,
      "outputs": [
        {
          "output_type": "execute_result",
          "data": {
            "text/plain": [
              "0.7965566780397381"
            ]
          },
          "metadata": {},
          "execution_count": 22
        }
      ]
    },
    {
      "cell_type": "code",
      "metadata": {
        "colab": {
          "base_uri": "https://localhost:8080/"
        },
        "id": "iblCKwmr2knt",
        "outputId": "c98e7c6a-bac0-4790-bfa7-feeae1048218"
      },
      "source": [
        "lr.coef_"
      ],
      "execution_count": 23,
      "outputs": [
        {
          "output_type": "execute_result",
          "data": {
            "text/plain": [
              "array([ 4.51384957e+01,  1.53127607e+00,  7.89452171e+02,  3.62663990e+02,\n",
              "        9.83682875e+01, -1.08169245e+01,  3.08017854e+02, -4.17024371e+02,\n",
              "       -2.00099087e+02, -6.22650015e+02, -1.70235175e+02,  1.86860719e+03,\n",
              "        1.64133620e+04,  2.83174279e+02])"
            ]
          },
          "metadata": {},
          "execution_count": 23
        }
      ]
    },
    {
      "cell_type": "markdown",
      "metadata": {
        "id": "FfcZKlsr1a-z"
      },
      "source": [
        "### **Ridge and Lasso Regularization**"
      ]
    },
    {
      "cell_type": "code",
      "metadata": {
        "id": "BgR3R8aP1W5b"
      },
      "source": [
        "from sklearn.linear_model import Lasso #lambda*sum(abs(coef))\n",
        "from sklearn.linear_model import Ridge #lambda*sum(square(coef))"
      ],
      "execution_count": 24,
      "outputs": []
    },
    {
      "cell_type": "code",
      "metadata": {
        "colab": {
          "base_uri": "https://localhost:8080/"
        },
        "id": "hq1w4E9q1W7g",
        "outputId": "a6308664-0918-4d9b-96cd-4f864afa0dd3"
      },
      "source": [
        "l1=Lasso(500)\n",
        "l1.fit(X_train,y_train)"
      ],
      "execution_count": 25,
      "outputs": [
        {
          "output_type": "execute_result",
          "data": {
            "text/plain": [
              "Lasso(alpha=500, copy_X=True, fit_intercept=True, max_iter=1000,\n",
              "      normalize=False, positive=False, precompute=False, random_state=None,\n",
              "      selection='cyclic', tol=0.0001, warm_start=False)"
            ]
          },
          "metadata": {},
          "execution_count": 25
        }
      ]
    },
    {
      "cell_type": "code",
      "metadata": {
        "colab": {
          "base_uri": "https://localhost:8080/"
        },
        "id": "hPKyWpC31W-l",
        "outputId": "3f4ae8d4-ac9f-4e17-996c-c0ca1870ec6f"
      },
      "source": [
        "l1.coef_"
      ],
      "execution_count": 26,
      "outputs": [
        {
          "output_type": "execute_result",
          "data": {
            "text/plain": [
              "array([   0.        ,    5.30204452,  139.87319933,  351.48055   ,\n",
              "        129.57805501,   17.72257258,   -0.        , -105.84345305,\n",
              "       -146.68991429,   -0.        ,   -0.        ,    0.        ,\n",
              "          0.        ,    0.        ])"
            ]
          },
          "metadata": {},
          "execution_count": 26
        }
      ]
    },
    {
      "cell_type": "markdown",
      "metadata": {
        "id": "iEN8sMcs3zE3"
      },
      "source": [
        "Clearly Lasso has reduced the coefficient value of features to zero which are not important.Therfore Lasso is also used during feature selection"
      ]
    },
    {
      "cell_type": "code",
      "metadata": {
        "colab": {
          "base_uri": "https://localhost:8080/"
        },
        "id": "Za3SAZjl1XBi",
        "outputId": "5dad6535-04c4-4d9b-e9b8-ed0c4543cc4c"
      },
      "source": [
        "l2=Ridge(10)\n",
        "l2.fit(X_train,y_train)"
      ],
      "execution_count": 27,
      "outputs": [
        {
          "output_type": "execute_result",
          "data": {
            "text/plain": [
              "Ridge(alpha=10, copy_X=True, fit_intercept=True, max_iter=None, normalize=False,\n",
              "      random_state=None, solver='auto', tol=0.001)"
            ]
          },
          "metadata": {},
          "execution_count": 27
        }
      ]
    },
    {
      "cell_type": "code",
      "metadata": {
        "colab": {
          "base_uri": "https://localhost:8080/"
        },
        "id": "gpaBcnoGxG_2",
        "outputId": "8c895ae8-a575-42a6-c985-751de37d00c1"
      },
      "source": [
        "l2.coef_"
      ],
      "execution_count": 28,
      "outputs": [
        {
          "output_type": "execute_result",
          "data": {
            "text/plain": [
              "array([ 2.08658930e+02, -5.60173023e-01,  3.64420144e+02,  5.72916414e+02,\n",
              "        1.04441215e+02,  2.21332730e+01,  2.11271281e+02, -2.72864381e+02,\n",
              "       -1.86340249e+02, -9.06610516e+02, -6.30655861e+02,  1.56860422e+03,\n",
              "        2.57047785e+03,  5.15948757e+02])"
            ]
          },
          "metadata": {},
          "execution_count": 28
        }
      ]
    },
    {
      "cell_type": "markdown",
      "metadata": {
        "id": "KkFBe_Z441DU"
      },
      "source": [
        "Ridge also reduces the value of coefficient of features which are not important in predicting the target column"
      ]
    },
    {
      "cell_type": "code",
      "metadata": {
        "colab": {
          "base_uri": "https://localhost:8080/"
        },
        "id": "is_0fat6xHDK",
        "outputId": "c55f38ea-27ab-493b-f9e5-4828f676c2a9"
      },
      "source": [
        "#Selecting the right value of lambda for Lasso\n",
        "for i in range(200,500,50):\n",
        "    l1 = Lasso(alpha=i)\n",
        "    l1.fit(X_train,y_train)\n",
        "    print(i,\":\",l1.score(X_test,y_test))"
      ],
      "execution_count": 29,
      "outputs": [
        {
          "output_type": "stream",
          "name": "stdout",
          "text": [
            "200 : 0.8139201358023779\n",
            "250 : 0.812421909078023\n",
            "300 : 0.8085057299003378\n",
            "350 : 0.8036053753129061\n",
            "400 : 0.7977229768452248\n",
            "450 : 0.7950465607641614\n"
          ]
        }
      ]
    },
    {
      "cell_type": "code",
      "metadata": {
        "colab": {
          "base_uri": "https://localhost:8080/"
        },
        "id": "05-6ZPOj5GZx",
        "outputId": "9cb2c62b-5c9e-4963-85c2-e6684632cb69"
      },
      "source": [
        "#Selecting the right value of lambda for Ridge\n",
        "for i in range(50):\n",
        "    l2 = Ridge(alpha=i)\n",
        "    l2.fit(X_train,y_train)\n",
        "    print(i,\":\",l2.score(X_test,y_test))"
      ],
      "execution_count": 30,
      "outputs": [
        {
          "output_type": "stream",
          "name": "stdout",
          "text": [
            "0 : 0.7965566780397377\n",
            "1 : 0.8074518758147271\n",
            "2 : 0.8110292248150515\n",
            "3 : 0.8126933383890032\n",
            "4 : 0.81361486450293\n",
            "5 : 0.8141745853539418\n",
            "6 : 0.8145301242133357\n",
            "7 : 0.8147582608502815\n",
            "8 : 0.8149010602831952\n",
            "9 : 0.8149836949253051\n",
            "10 : 0.8150222867376528\n",
            "11 : 0.815027724543179\n",
            "12 : 0.8150076788279418\n",
            "13 : 0.8149677381788262\n",
            "14 : 0.8149120868051174\n",
            "15 : 0.8148439278252518\n",
            "16 : 0.8147657584947389\n",
            "17 : 0.8146795554128122\n",
            "18 : 0.8145869029046835\n",
            "19 : 0.8144890843369587\n",
            "20 : 0.8143871485445551\n",
            "21 : 0.8142819591129827\n",
            "22 : 0.8141742315788492\n",
            "23 : 0.8140645619421539\n",
            "24 : 0.813953448816606\n",
            "25 : 0.8138413108452036\n",
            "26 : 0.8137285005403773\n",
            "27 : 0.8136153153884842\n",
            "28 : 0.813502006836264\n",
            "29 : 0.8133887876197213\n",
            "30 : 0.813275837783145\n",
            "31 : 0.8131633096537951\n",
            "32 : 0.8130513319772293\n",
            "33 : 0.8129400133729974\n",
            "34 : 0.8128294452363019\n",
            "35 : 0.8127197041851856\n",
            "36 : 0.8126108541327799\n",
            "37 : 0.812502948048576\n",
            "38 : 0.8123960294605085\n",
            "39 : 0.8122901337400302\n",
            "40 : 0.8121852892047275\n",
            "41 : 0.8120815180669062\n",
            "42 : 0.8119788372516912\n",
            "43 : 0.8118772591041924\n",
            "44 : 0.8117767920020496\n",
            "45 : 0.8116774408870527\n",
            "46 : 0.8115792077273272\n",
            "47 : 0.8114820919198036\n",
            "48 : 0.8113860906412016\n",
            "49 : 0.811291199154509\n"
          ]
        }
      ]
    },
    {
      "cell_type": "markdown",
      "metadata": {
        "id": "weyACv4W7B1S"
      },
      "source": [
        "### **FINAL MODELS**"
      ]
    },
    {
      "cell_type": "code",
      "metadata": {
        "colab": {
          "base_uri": "https://localhost:8080/"
        },
        "id": "VM6k4Z2z5zY5",
        "outputId": "408413b2-04ff-47cd-bb72-66c5edcfe795"
      },
      "source": [
        "l1 = Lasso(alpha=200)\n",
        "l1.fit(X_train,y_train)\n",
        "print(\"R-Squared Accuracy: \",l1.score(X_test,y_test))"
      ],
      "execution_count": 31,
      "outputs": [
        {
          "output_type": "stream",
          "name": "stdout",
          "text": [
            "R-Squared Accuracy:  0.8139201358023779\n"
          ]
        }
      ]
    },
    {
      "cell_type": "code",
      "metadata": {
        "colab": {
          "base_uri": "https://localhost:8080/"
        },
        "id": "m-0atlAV7Kdf",
        "outputId": "03e80bdd-b2ee-4f75-a029-04b647aa4d7b"
      },
      "source": [
        "l1.coef_"
      ],
      "execution_count": 32,
      "outputs": [
        {
          "output_type": "execute_result",
          "data": {
            "text/plain": [
              "array([ 0.00000000e+00,  2.07002782e+00,  3.23427588e+02,  4.69420186e+02,\n",
              "        1.15553544e+02,  1.42784033e+01,  3.62975615e+01, -1.24776284e+02,\n",
              "       -1.67461354e+02, -0.00000000e+00, -4.05115132e+02,  1.11242794e+03,\n",
              "        2.09462838e+03,  3.05815537e+02])"
            ]
          },
          "metadata": {},
          "execution_count": 32
        }
      ]
    },
    {
      "cell_type": "code",
      "metadata": {
        "colab": {
          "base_uri": "https://localhost:8080/"
        },
        "id": "QKo5OREp5zgw",
        "outputId": "66194827-4fc7-46f6-ba99-fc671005ca3a"
      },
      "source": [
        "l2 = Ridge(alpha=11)\n",
        "l2.fit(X_train,y_train)\n",
        "print(\"R-Squared Accuracy: \",l2.score(X_test,y_test))"
      ],
      "execution_count": 33,
      "outputs": [
        {
          "output_type": "stream",
          "name": "stdout",
          "text": [
            "R-Squared Accuracy:  0.815027724543179\n"
          ]
        }
      ]
    },
    {
      "cell_type": "code",
      "metadata": {
        "colab": {
          "base_uri": "https://localhost:8080/"
        },
        "id": "SNi48JmYxHGD",
        "outputId": "78ff7cb2-e53a-49ba-906b-ec3c75530228"
      },
      "source": [
        "l2.coef_"
      ],
      "execution_count": 34,
      "outputs": [
        {
          "output_type": "execute_result",
          "data": {
            "text/plain": [
              "array([ 2.08075572e+02, -4.19381533e-01,  3.60059061e+02,  5.73951520e+02,\n",
              "        1.04837625e+02,  2.25081577e+01,  2.09621781e+02, -2.70364868e+02,\n",
              "       -1.85682528e+02, -8.73561956e+02, -6.31723522e+02,  1.53165287e+03,\n",
              "        2.37667318e+03,  5.13039213e+02])"
            ]
          },
          "metadata": {},
          "execution_count": 34
        }
      ]
    }
  ]
}